{
 "cells": [
  {
   "cell_type": "code",
   "execution_count": 1,
   "id": "f142f3ba",
   "metadata": {
    "execution": {
     "iopub.execute_input": "2024-06-16T08:26:49.002434Z",
     "iopub.status.busy": "2024-06-16T08:26:49.002079Z",
     "iopub.status.idle": "2024-06-16T08:26:54.013966Z",
     "shell.execute_reply": "2024-06-16T08:26:54.013040Z"
    },
    "papermill": {
     "duration": 5.023955,
     "end_time": "2024-06-16T08:26:54.016227",
     "exception": false,
     "start_time": "2024-06-16T08:26:48.992272",
     "status": "completed"
    },
    "tags": []
   },
   "outputs": [
    {
     "data": {
      "text/plain": [
       "'2.1.2'"
      ]
     },
     "execution_count": 1,
     "metadata": {},
     "output_type": "execute_result"
    }
   ],
   "source": [
    "import numpy as np\n",
    "import torch\n",
    "from torch import nn\n",
    "import torchvision\n",
    "\n",
    "torch.__version__"
   ]
  },
  {
   "cell_type": "code",
   "execution_count": 2,
   "id": "46e9d911",
   "metadata": {
    "execution": {
     "iopub.execute_input": "2024-06-16T08:26:54.034613Z",
     "iopub.status.busy": "2024-06-16T08:26:54.034147Z",
     "iopub.status.idle": "2024-06-16T08:26:54.038630Z",
     "shell.execute_reply": "2024-06-16T08:26:54.037684Z"
    },
    "papermill": {
     "duration": 0.016074,
     "end_time": "2024-06-16T08:26:54.040671",
     "exception": false,
     "start_time": "2024-06-16T08:26:54.024597",
     "status": "completed"
    },
    "tags": []
   },
   "outputs": [],
   "source": [
    "import matplotlib.pyplot as plt"
   ]
  },
  {
   "cell_type": "code",
   "execution_count": 3,
   "id": "0395ba77",
   "metadata": {
    "execution": {
     "iopub.execute_input": "2024-06-16T08:26:54.058188Z",
     "iopub.status.busy": "2024-06-16T08:26:54.057413Z",
     "iopub.status.idle": "2024-06-16T08:26:54.100119Z",
     "shell.execute_reply": "2024-06-16T08:26:54.099230Z"
    },
    "papermill": {
     "duration": 0.05366,
     "end_time": "2024-06-16T08:26:54.102102",
     "exception": false,
     "start_time": "2024-06-16T08:26:54.048442",
     "status": "completed"
    },
    "tags": []
   },
   "outputs": [
    {
     "data": {
      "text/plain": [
       "'cuda'"
      ]
     },
     "execution_count": 3,
     "metadata": {},
     "output_type": "execute_result"
    }
   ],
   "source": [
    "device='cuda' if torch.cuda.is_available() else 'cpu'\n",
    "device"
   ]
  },
  {
   "cell_type": "code",
   "execution_count": 4,
   "id": "02174f61",
   "metadata": {
    "execution": {
     "iopub.execute_input": "2024-06-16T08:26:54.120723Z",
     "iopub.status.busy": "2024-06-16T08:26:54.119918Z",
     "iopub.status.idle": "2024-06-16T08:26:54.125795Z",
     "shell.execute_reply": "2024-06-16T08:26:54.124800Z"
    },
    "papermill": {
     "duration": 0.017556,
     "end_time": "2024-06-16T08:26:54.127835",
     "exception": false,
     "start_time": "2024-06-16T08:26:54.110279",
     "status": "completed"
    },
    "tags": []
   },
   "outputs": [],
   "source": [
    "def set_seeds(seed: int=42):\n",
    "    \"\"\"Sets random sets for torch operations.\n",
    "\n",
    "    Args:\n",
    "        seed (int, optional): Random seed to set. Defaults to 42.\n",
    "    \"\"\"\n",
    "    # Set the seed for general torch operations\n",
    "    torch.manual_seed(seed)\n",
    "    # Set the seed for CUDA torch operations (ones that happen on the GPU)\n",
    "    torch.cuda.manual_seed(seed)"
   ]
  },
  {
   "cell_type": "code",
   "execution_count": 5,
   "id": "f38fd7e5",
   "metadata": {
    "execution": {
     "iopub.execute_input": "2024-06-16T08:26:54.145587Z",
     "iopub.status.busy": "2024-06-16T08:26:54.145019Z",
     "iopub.status.idle": "2024-06-16T08:26:54.151737Z",
     "shell.execute_reply": "2024-06-16T08:26:54.150851Z"
    },
    "papermill": {
     "duration": 0.017898,
     "end_time": "2024-06-16T08:26:54.153873",
     "exception": false,
     "start_time": "2024-06-16T08:26:54.135975",
     "status": "completed"
    },
    "tags": []
   },
   "outputs": [],
   "source": [
    "def create_effnet_model(num_classes=101):\n",
    "    \n",
    "    effnet_weights=torchvision.models.EfficientNet_B4_Weights.DEFAULT\n",
    "    effnet=torchvision.models.efficientnet_b4(weights=effnet_weights)\n",
    "    \n",
    "    print(effnet.classifier)\n",
    "    \n",
    "    for param in effnet.parameters():\n",
    "        param.requires_grad=False\n",
    "        \n",
    "    effnet.classifier=nn.Sequential(\n",
    "        nn.Dropout(p=0.4, inplace=True),\n",
    "        nn.Linear(in_features=1792, out_features=num_classes)\n",
    "    )\n",
    "    \n",
    "    return effnet, effnet_weights.transforms()"
   ]
  },
  {
   "cell_type": "code",
   "execution_count": 6,
   "id": "8a0aa5d1",
   "metadata": {
    "execution": {
     "iopub.execute_input": "2024-06-16T08:26:54.173991Z",
     "iopub.status.busy": "2024-06-16T08:26:54.173644Z",
     "iopub.status.idle": "2024-06-16T08:26:56.001523Z",
     "shell.execute_reply": "2024-06-16T08:26:56.000633Z"
    },
    "papermill": {
     "duration": 1.840638,
     "end_time": "2024-06-16T08:26:56.003812",
     "exception": false,
     "start_time": "2024-06-16T08:26:54.163174",
     "status": "completed"
    },
    "tags": []
   },
   "outputs": [
    {
     "name": "stderr",
     "output_type": "stream",
     "text": [
      "Downloading: \"https://download.pytorch.org/models/efficientnet_b4_rwightman-23ab8bcd.pth\" to /root/.cache/torch/hub/checkpoints/efficientnet_b4_rwightman-23ab8bcd.pth\n",
      "100%|██████████| 74.5M/74.5M [00:00<00:00, 141MB/s]\n"
     ]
    },
    {
     "name": "stdout",
     "output_type": "stream",
     "text": [
      "Sequential(\n",
      "  (0): Dropout(p=0.4, inplace=True)\n",
      "  (1): Linear(in_features=1792, out_features=1000, bias=True)\n",
      ")\n"
     ]
    },
    {
     "data": {
      "text/plain": [
       "ImageClassification(\n",
       "    crop_size=[380]\n",
       "    resize_size=[384]\n",
       "    mean=[0.485, 0.456, 0.406]\n",
       "    std=[0.229, 0.224, 0.225]\n",
       "    interpolation=InterpolationMode.BICUBIC\n",
       ")"
      ]
     },
     "execution_count": 6,
     "metadata": {},
     "output_type": "execute_result"
    }
   ],
   "source": [
    "set_seeds()\n",
    "effnet_food101, effnet_transforms= create_effnet_model(num_classes=101)\n",
    "\n",
    "effnet_transforms"
   ]
  },
  {
   "cell_type": "code",
   "execution_count": 7,
   "id": "de44a13e",
   "metadata": {
    "execution": {
     "iopub.execute_input": "2024-06-16T08:26:56.024633Z",
     "iopub.status.busy": "2024-06-16T08:26:56.023961Z",
     "iopub.status.idle": "2024-06-16T08:26:56.035151Z",
     "shell.execute_reply": "2024-06-16T08:26:56.034289Z"
    },
    "papermill": {
     "duration": 0.024457,
     "end_time": "2024-06-16T08:26:56.037371",
     "exception": false,
     "start_time": "2024-06-16T08:26:56.012914",
     "status": "completed"
    },
    "tags": []
   },
   "outputs": [],
   "source": [
    "from torchinfo import summary\n",
    "\n",
    "# summary(effnetb2_food101, \n",
    "#         input_size=(1, 3, 224, 224),\n",
    "#         col_names=[\"input_size\", \"output_size\", \"num_params\", \"trainable\"],\n",
    "#         col_width=20,\n",
    "#         row_settings=[\"var_names\"])"
   ]
  },
  {
   "cell_type": "code",
   "execution_count": 8,
   "id": "b23e67f5",
   "metadata": {
    "execution": {
     "iopub.execute_input": "2024-06-16T08:26:56.056792Z",
     "iopub.status.busy": "2024-06-16T08:26:56.056451Z",
     "iopub.status.idle": "2024-06-16T08:26:56.060745Z",
     "shell.execute_reply": "2024-06-16T08:26:56.059894Z"
    },
    "papermill": {
     "duration": 0.016202,
     "end_time": "2024-06-16T08:26:56.062767",
     "exception": false,
     "start_time": "2024-06-16T08:26:56.046565",
     "status": "completed"
    },
    "tags": []
   },
   "outputs": [],
   "source": [
    "food101_train_transforms = torchvision.transforms.Compose([\n",
    "    torchvision.transforms.TrivialAugmentWide(),\n",
    "    effnet_transforms\n",
    "])"
   ]
  },
  {
   "cell_type": "code",
   "execution_count": 9,
   "id": "672427b6",
   "metadata": {
    "execution": {
     "iopub.execute_input": "2024-06-16T08:26:56.082813Z",
     "iopub.status.busy": "2024-06-16T08:26:56.082197Z",
     "iopub.status.idle": "2024-06-16T08:26:56.087027Z",
     "shell.execute_reply": "2024-06-16T08:26:56.086175Z"
    },
    "papermill": {
     "duration": 0.017368,
     "end_time": "2024-06-16T08:26:56.089169",
     "exception": false,
     "start_time": "2024-06-16T08:26:56.071801",
     "status": "completed"
    },
    "tags": []
   },
   "outputs": [
    {
     "name": "stdout",
     "output_type": "stream",
     "text": [
      "Training transforms:\n",
      "Compose(\n",
      "    TrivialAugmentWide(num_magnitude_bins=31, interpolation=InterpolationMode.NEAREST, fill=None)\n",
      "    ImageClassification(\n",
      "    crop_size=[380]\n",
      "    resize_size=[384]\n",
      "    mean=[0.485, 0.456, 0.406]\n",
      "    std=[0.229, 0.224, 0.225]\n",
      "    interpolation=InterpolationMode.BICUBIC\n",
      ")\n",
      ")\n",
      "\n",
      "Testing transforms:\n",
      "ImageClassification(\n",
      "    crop_size=[380]\n",
      "    resize_size=[384]\n",
      "    mean=[0.485, 0.456, 0.406]\n",
      "    std=[0.229, 0.224, 0.225]\n",
      "    interpolation=InterpolationMode.BICUBIC\n",
      ")\n"
     ]
    }
   ],
   "source": [
    "print(f\"Training transforms:\\n{food101_train_transforms}\\n\") \n",
    "print(f\"Testing transforms:\\n{effnet_transforms}\")"
   ]
  },
  {
   "cell_type": "code",
   "execution_count": 10,
   "id": "08fd9709",
   "metadata": {
    "execution": {
     "iopub.execute_input": "2024-06-16T08:26:56.109057Z",
     "iopub.status.busy": "2024-06-16T08:26:56.108226Z",
     "iopub.status.idle": "2024-06-16T08:28:42.383367Z",
     "shell.execute_reply": "2024-06-16T08:28:42.382492Z"
    },
    "papermill": {
     "duration": 106.287502,
     "end_time": "2024-06-16T08:28:42.385806",
     "exception": false,
     "start_time": "2024-06-16T08:26:56.098304",
     "status": "completed"
    },
    "tags": []
   },
   "outputs": [
    {
     "name": "stdout",
     "output_type": "stream",
     "text": [
      "Downloading https://data.vision.ee.ethz.ch/cvl/food-101.tar.gz to data/food-101.tar.gz\n"
     ]
    },
    {
     "name": "stderr",
     "output_type": "stream",
     "text": [
      "100%|██████████| 4996278331/4996278331 [00:39<00:00, 125268203.47it/s]\n"
     ]
    },
    {
     "name": "stdout",
     "output_type": "stream",
     "text": [
      "Extracting data/food-101.tar.gz to data\n"
     ]
    }
   ],
   "source": [
    "from torchvision import datasets\n",
    "from pathlib import Path\n",
    "\n",
    "data_dir = Path('data')\n",
    "\n",
    "train_data=datasets.Food101(\n",
    "    root=data_dir,\n",
    "    split='train',\n",
    "    transform=food101_train_transforms,\n",
    "    download=True,\n",
    ")\n",
    "\n",
    "test_data = datasets.Food101(\n",
    "    root=data_dir,\n",
    "    split='test',\n",
    "    transform=effnet_transforms,\n",
    "    download=True\n",
    ")"
   ]
  },
  {
   "cell_type": "code",
   "execution_count": 11,
   "id": "2a77e20b",
   "metadata": {
    "execution": {
     "iopub.execute_input": "2024-06-16T08:28:42.469366Z",
     "iopub.status.busy": "2024-06-16T08:28:42.469015Z",
     "iopub.status.idle": "2024-06-16T08:28:42.475613Z",
     "shell.execute_reply": "2024-06-16T08:28:42.474674Z"
    },
    "papermill": {
     "duration": 0.050734,
     "end_time": "2024-06-16T08:28:42.477636",
     "exception": false,
     "start_time": "2024-06-16T08:28:42.426902",
     "status": "completed"
    },
    "tags": []
   },
   "outputs": [
    {
     "data": {
      "text/plain": [
       "['apple_pie',\n",
       " 'baby_back_ribs',\n",
       " 'baklava',\n",
       " 'beef_carpaccio',\n",
       " 'beef_tartare',\n",
       " 'beet_salad',\n",
       " 'beignets',\n",
       " 'bibimbap',\n",
       " 'bread_pudding',\n",
       " 'breakfast_burrito']"
      ]
     },
     "execution_count": 11,
     "metadata": {},
     "output_type": "execute_result"
    }
   ],
   "source": [
    "# Get Food101 class names\n",
    "food101_class_names = train_data.classes\n",
    "\n",
    "# View the first 10\n",
    "food101_class_names[:10]"
   ]
  },
  {
   "cell_type": "code",
   "execution_count": 12,
   "id": "aa5f4b45",
   "metadata": {
    "execution": {
     "iopub.execute_input": "2024-06-16T08:28:42.564559Z",
     "iopub.status.busy": "2024-06-16T08:28:42.563709Z",
     "iopub.status.idle": "2024-06-16T08:28:42.571632Z",
     "shell.execute_reply": "2024-06-16T08:28:42.570720Z"
    },
    "papermill": {
     "duration": 0.053783,
     "end_time": "2024-06-16T08:28:42.573644",
     "exception": false,
     "start_time": "2024-06-16T08:28:42.519861",
     "status": "completed"
    },
    "tags": []
   },
   "outputs": [],
   "source": [
    "def split_dataset(dataset:torchvision.datasets, split_size:float=0.2, seed:int=42):\n",
    "    \"\"\"Randomly splits a given dataset into two proportions based on split_size and seed.\n",
    "\n",
    "    Args:\n",
    "        dataset (torchvision.datasets): A PyTorch Dataset, typically one from torchvision.datasets.\n",
    "        split_size (float, optional): How much of the dataset should be split? \n",
    "            E.g. split_size=0.2 means there will be a 20% split and an 80% split. Defaults to 0.2.\n",
    "        seed (int, optional): Seed for random generator. Defaults to 42.\n",
    "\n",
    "    Returns:\n",
    "        tuple: (random_split_1, random_split_2) where random_split_1 is of size split_size*len(dataset) and \n",
    "            random_split_2 is of size (1-split_size)*len(dataset).\n",
    "    \"\"\"\n",
    "    # Create split lengths based on original dataset length\n",
    "    length_1 = int(len(dataset) * split_size) # desired length\n",
    "    length_2 = len(dataset) - length_1 # remaining length\n",
    "        \n",
    "    # Print out info\n",
    "    print(f\"[INFO] Splitting dataset of length {len(dataset)} into splits of size: {length_1} ({int(split_size*100)}%), {length_2} ({int((1-split_size)*100)}%)\")\n",
    "    \n",
    "    # Create splits with given random seed\n",
    "    random_split_1, random_split_2 = torch.utils.data.random_split(dataset, \n",
    "                                                                   lengths=[length_1, length_2],\n",
    "                                                                   generator=torch.manual_seed(seed)) # set the random seed for reproducible splits\n",
    "    return random_split_1, random_split_2"
   ]
  },
  {
   "cell_type": "code",
   "execution_count": 13,
   "id": "e189fd65",
   "metadata": {
    "execution": {
     "iopub.execute_input": "2024-06-16T08:28:42.657037Z",
     "iopub.status.busy": "2024-06-16T08:28:42.656330Z",
     "iopub.status.idle": "2024-06-16T08:28:42.678493Z",
     "shell.execute_reply": "2024-06-16T08:28:42.677566Z"
    },
    "papermill": {
     "duration": 0.064844,
     "end_time": "2024-06-16T08:28:42.680409",
     "exception": false,
     "start_time": "2024-06-16T08:28:42.615565",
     "status": "completed"
    },
    "tags": []
   },
   "outputs": [
    {
     "name": "stdout",
     "output_type": "stream",
     "text": [
      "[INFO] Splitting dataset of length 75750 into splits of size: 45450 (60%), 30300 (40%)\n",
      "[INFO] Splitting dataset of length 25250 into splits of size: 25250 (100%), 0 (0%)\n"
     ]
    },
    {
     "data": {
      "text/plain": [
       "(45450, 25250)"
      ]
     },
     "execution_count": 13,
     "metadata": {},
     "output_type": "execute_result"
    }
   ],
   "source": [
    "train_data_food101_percent, _ = split_dataset(dataset=train_data,\n",
    "                                                 split_size=0.6)\n",
    "\n",
    "\n",
    "test_data_food101_percent, _ = split_dataset(dataset=test_data,\n",
    "                                                split_size=1.0)\n",
    "\n",
    "len(train_data_food101_percent), len(test_data_food101_percent)"
   ]
  },
  {
   "cell_type": "code",
   "execution_count": 14,
   "id": "dccfeb52",
   "metadata": {
    "execution": {
     "iopub.execute_input": "2024-06-16T08:28:42.761877Z",
     "iopub.status.busy": "2024-06-16T08:28:42.761088Z",
     "iopub.status.idle": "2024-06-16T08:28:42.766703Z",
     "shell.execute_reply": "2024-06-16T08:28:42.765842Z"
    },
    "papermill": {
     "duration": 0.0475,
     "end_time": "2024-06-16T08:28:42.768789",
     "exception": false,
     "start_time": "2024-06-16T08:28:42.721289",
     "status": "completed"
    },
    "tags": []
   },
   "outputs": [],
   "source": [
    "import os\n",
    "\n",
    "BATCH_SIZE=128\n",
    "NUM_WORKERS=os.cpu_count()\n",
    "\n",
    "train_dataloader_food101=torch.utils.data.DataLoader(\n",
    "    train_data,\n",
    "    batch_size=BATCH_SIZE,\n",
    "    shuffle=True,\n",
    "    num_workers=NUM_WORKERS\n",
    ")\n",
    "\n",
    "test_dataloader_food101=torch.utils.data.DataLoader(\n",
    "    test_data,\n",
    "    batch_size=BATCH_SIZE,\n",
    "    shuffle=False,\n",
    "    num_workers=NUM_WORKERS\n",
    ")"
   ]
  },
  {
   "cell_type": "code",
   "execution_count": 15,
   "id": "a24035a2",
   "metadata": {
    "execution": {
     "iopub.execute_input": "2024-06-16T08:28:42.849890Z",
     "iopub.status.busy": "2024-06-16T08:28:42.849583Z",
     "iopub.status.idle": "2024-06-16T08:28:42.859460Z",
     "shell.execute_reply": "2024-06-16T08:28:42.858547Z"
    },
    "papermill": {
     "duration": 0.052632,
     "end_time": "2024-06-16T08:28:42.861433",
     "exception": false,
     "start_time": "2024-06-16T08:28:42.808801",
     "status": "completed"
    },
    "tags": []
   },
   "outputs": [],
   "source": [
    "from tqdm.auto import tqdm\n",
    "from typing import Dict, List, Tuple\n",
    "\n",
    "def train_step(model: torch.nn.Module, \n",
    "               dataloader: torch.utils.data.DataLoader, \n",
    "               loss_fn: torch.nn.Module, \n",
    "               optimizer: torch.optim.Optimizer,\n",
    "               device: torch.device) -> Tuple[float, float]:\n",
    "    \"\"\"Trains a PyTorch model for a single epoch.\n",
    "\n",
    "    Turns a target PyTorch model to training mode and then\n",
    "    runs through all of the required training steps (forward\n",
    "    pass, loss calculation, optimizer step).\n",
    "\n",
    "    Args:\n",
    "    model: A PyTorch model to be trained.\n",
    "    dataloader: A DataLoader instance for the model to be trained on.\n",
    "    loss_fn: A PyTorch loss function to minimize.\n",
    "    optimizer: A PyTorch optimizer to help minimize the loss function.\n",
    "    device: A target device to compute on (e.g. \"cuda\" or \"cpu\").\n",
    "\n",
    "    Returns:\n",
    "    A tuple of training loss and training accuracy metrics.\n",
    "    In the form (train_loss, train_accuracy). For example:\n",
    "\n",
    "    (0.1112, 0.8743)\n",
    "    \"\"\"\n",
    "    # Put model in train mode\n",
    "    model.train()\n",
    "\n",
    "    # Setup train loss and train accuracy values\n",
    "    train_loss, train_acc = 0, 0\n",
    "\n",
    "    # Loop through data loader data batches\n",
    "    for batch, (X, y) in enumerate(dataloader):\n",
    "        # Send data to target device\n",
    "        X, y = X.to(device), y.to(device)\n",
    "\n",
    "        # 1. Forward pass\n",
    "        y_pred = model(X)\n",
    "\n",
    "        # 2. Calculate  and accumulate loss\n",
    "        loss = loss_fn(y_pred, y)\n",
    "        train_loss += loss.item() \n",
    "\n",
    "        # 3. Optimizer zero grad\n",
    "        optimizer.zero_grad()\n",
    "\n",
    "        # 4. Loss backward\n",
    "        loss.backward()\n",
    "\n",
    "        # 5. Optimizer step\n",
    "        optimizer.step()\n",
    "\n",
    "        # Calculate and accumulate accuracy metric across all batches\n",
    "        y_pred_class = torch.argmax(torch.softmax(y_pred, dim=1), dim=1)\n",
    "        train_acc += (y_pred_class == y).sum().item()/len(y_pred)\n",
    "\n",
    "    # Adjust metrics to get average loss and accuracy per batch \n",
    "    train_loss = train_loss / len(dataloader)\n",
    "    train_acc = train_acc / len(dataloader)\n",
    "    return train_loss, train_acc\n"
   ]
  },
  {
   "cell_type": "code",
   "execution_count": 16,
   "id": "1ddfe9c6",
   "metadata": {
    "execution": {
     "iopub.execute_input": "2024-06-16T08:28:42.943576Z",
     "iopub.status.busy": "2024-06-16T08:28:42.942861Z",
     "iopub.status.idle": "2024-06-16T08:28:42.952048Z",
     "shell.execute_reply": "2024-06-16T08:28:42.951147Z"
    },
    "papermill": {
     "duration": 0.052569,
     "end_time": "2024-06-16T08:28:42.953972",
     "exception": false,
     "start_time": "2024-06-16T08:28:42.901403",
     "status": "completed"
    },
    "tags": []
   },
   "outputs": [],
   "source": [
    "def test_step(model: torch.nn.Module, \n",
    "              dataloader: torch.utils.data.DataLoader, \n",
    "              loss_fn: torch.nn.Module,\n",
    "              device: torch.device) -> Tuple[float, float]:\n",
    "    \"\"\"Tests a PyTorch model for a single epoch.\n",
    "\n",
    "    Turns a target PyTorch model to \"eval\" mode and then performs\n",
    "    a forward pass on a testing dataset.\n",
    "\n",
    "    Args:\n",
    "    model: A PyTorch model to be tested.\n",
    "    dataloader: A DataLoader instance for the model to be tested on.\n",
    "    loss_fn: A PyTorch loss function to calculate loss on the test data.\n",
    "    device: A target device to compute on (e.g. \"cuda\" or \"cpu\").\n",
    "\n",
    "    Returns:\n",
    "    A tuple of testing loss and testing accuracy metrics.\n",
    "    In the form (test_loss, test_accuracy). For example:\n",
    "\n",
    "    (0.0223, 0.8985)\n",
    "    \"\"\"\n",
    "    # Put model in eval mode\n",
    "    model.eval() \n",
    "\n",
    "    # Setup test loss and test accuracy values\n",
    "    test_loss, test_acc = 0, 0\n",
    "\n",
    "    # Turn on inference context manager\n",
    "    with torch.inference_mode():\n",
    "        # Loop through DataLoader batches\n",
    "        for batch, (X, y) in enumerate(dataloader):\n",
    "            # Send data to target device\n",
    "            X, y = X.to(device), y.to(device)\n",
    "\n",
    "            # 1. Forward pass\n",
    "            test_pred_logits = model(X)\n",
    "\n",
    "            # 2. Calculate and accumulate loss\n",
    "            loss = loss_fn(test_pred_logits, y)\n",
    "            test_loss += loss.item()\n",
    "\n",
    "            # Calculate and accumulate accuracy\n",
    "            test_pred_labels = test_pred_logits.argmax(dim=1)\n",
    "            test_acc += ((test_pred_labels == y).sum().item()/len(test_pred_labels))\n",
    "\n",
    "    # Adjust metrics to get average loss and accuracy per batch \n",
    "    test_loss = test_loss / len(dataloader)\n",
    "    test_acc = test_acc / len(dataloader)\n",
    "    return test_loss, test_acc\n"
   ]
  },
  {
   "cell_type": "code",
   "execution_count": 17,
   "id": "a7d62d48",
   "metadata": {
    "execution": {
     "iopub.execute_input": "2024-06-16T08:28:43.036449Z",
     "iopub.status.busy": "2024-06-16T08:28:43.035598Z",
     "iopub.status.idle": "2024-06-16T08:28:43.046697Z",
     "shell.execute_reply": "2024-06-16T08:28:43.045680Z"
    },
    "papermill": {
     "duration": 0.05502,
     "end_time": "2024-06-16T08:28:43.048954",
     "exception": false,
     "start_time": "2024-06-16T08:28:42.993934",
     "status": "completed"
    },
    "tags": []
   },
   "outputs": [],
   "source": [
    "\n",
    "def train(model: torch.nn.Module, \n",
    "          train_dataloader: torch.utils.data.DataLoader, \n",
    "          test_dataloader: torch.utils.data.DataLoader, \n",
    "          optimizer: torch.optim.Optimizer,\n",
    "          loss_fn: torch.nn.Module,\n",
    "          epochs: int,\n",
    "          device: torch.device) -> Dict[str, List]:\n",
    "    \"\"\"Trains and tests a PyTorch model.\n",
    "\n",
    "    Passes a target PyTorch models through train_step() and test_step()\n",
    "    functions for a number of epochs, training and testing the model\n",
    "    in the same epoch loop.\n",
    "\n",
    "    Calculates, prints and stores evaluation metrics throughout.\n",
    "\n",
    "    Args:\n",
    "    model: A PyTorch model to be trained and tested.\n",
    "    train_dataloader: A DataLoader instance for the model to be trained on.\n",
    "    test_dataloader: A DataLoader instance for the model to be tested on.\n",
    "    optimizer: A PyTorch optimizer to help minimize the loss function.\n",
    "    loss_fn: A PyTorch loss function to calculate loss on both datasets.\n",
    "    epochs: An integer indicating how many epochs to train for.\n",
    "    device: A target device to compute on (e.g. \"cuda\" or \"cpu\").\n",
    "\n",
    "    Returns:\n",
    "    A dictionary of training and testing loss as well as training and\n",
    "    testing accuracy metrics. Each metric has a value in a list for \n",
    "    each epoch.\n",
    "    In the form: {train_loss: [...],\n",
    "              train_acc: [...],\n",
    "              test_loss: [...],\n",
    "              test_acc: [...]} \n",
    "    For example if training for epochs=2: \n",
    "             {train_loss: [2.0616, 1.0537],\n",
    "              train_acc: [0.3945, 0.3945],\n",
    "              test_loss: [1.2641, 1.5706],\n",
    "              test_acc: [0.3400, 0.2973]} \n",
    "    \"\"\"\n",
    "    # Create empty results dictionary\n",
    "    results = {\"train_loss\": [],\n",
    "               \"train_acc\": [],\n",
    "               \"test_loss\": [],\n",
    "               \"test_acc\": []\n",
    "    }\n",
    "  \n",
    "    # Make sure model on target device\n",
    "    model.to(device)\n",
    "\n",
    "    # Loop through training and testing steps for a number of epochs\n",
    "    for epoch in tqdm(range(epochs)):\n",
    "        train_loss, train_acc = train_step(model=model,\n",
    "                                          dataloader=train_dataloader,\n",
    "                                          loss_fn=loss_fn,\n",
    "                                          optimizer=optimizer,\n",
    "                                          device=device)\n",
    "        test_loss, test_acc = test_step(model=model,\n",
    "          dataloader=test_dataloader,\n",
    "          loss_fn=loss_fn,\n",
    "          device=device)\n",
    "\n",
    "        # Print out what's happening\n",
    "        print(\n",
    "          f\"Epoch: {epoch+1} | \"\n",
    "          f\"train_loss: {train_loss:.4f} | \"\n",
    "          f\"train_acc: {train_acc:.4f} | \"\n",
    "          f\"test_loss: {test_loss:.4f} | \"\n",
    "          f\"test_acc: {test_acc:.4f}\"\n",
    "        )\n",
    "\n",
    "        # Update results dictionary\n",
    "        results[\"train_loss\"].append(train_loss)\n",
    "        results[\"train_acc\"].append(train_acc)\n",
    "        results[\"test_loss\"].append(test_loss)\n",
    "        results[\"test_acc\"].append(test_acc)\n",
    "\n",
    "    # Return the filled results at the end of the epochs\n",
    "    return results\n"
   ]
  },
  {
   "cell_type": "code",
   "execution_count": 18,
   "id": "686d3b1b",
   "metadata": {
    "execution": {
     "iopub.execute_input": "2024-06-16T08:28:43.175933Z",
     "iopub.status.busy": "2024-06-16T08:28:43.175571Z",
     "iopub.status.idle": "2024-06-16T11:34:35.071724Z",
     "shell.execute_reply": "2024-06-16T11:34:35.070705Z"
    },
    "papermill": {
     "duration": 11152.024344,
     "end_time": "2024-06-16T11:34:35.115191",
     "exception": false,
     "start_time": "2024-06-16T08:28:43.090847",
     "status": "completed"
    },
    "tags": []
   },
   "outputs": [
    {
     "data": {
      "application/vnd.jupyter.widget-view+json": {
       "model_id": "fca446aecfec4b7dab4560e8600b6a77",
       "version_major": 2,
       "version_minor": 0
      },
      "text/plain": [
       "  0%|          | 0/15 [00:00<?, ?it/s]"
      ]
     },
     "metadata": {},
     "output_type": "display_data"
    },
    {
     "name": "stdout",
     "output_type": "stream",
     "text": [
      "Epoch: 1 | train_loss: 2.7121 | train_acc: 0.4680 | test_loss: 1.9445 | test_acc: 0.6747\n",
      "Epoch: 2 | train_loss: 2.4766 | train_acc: 0.5273 | test_loss: 1.9142 | test_acc: 0.6870\n",
      "Epoch: 3 | train_loss: 2.4712 | train_acc: 0.5345 | test_loss: 1.8853 | test_acc: 0.6999\n",
      "Epoch: 4 | train_loss: 2.4719 | train_acc: 0.5359 | test_loss: 1.8932 | test_acc: 0.6967\n",
      "Epoch: 5 | train_loss: 2.4802 | train_acc: 0.5375 | test_loss: 1.8785 | test_acc: 0.7004\n",
      "Epoch: 6 | train_loss: 2.4761 | train_acc: 0.5374 | test_loss: 1.8801 | test_acc: 0.7028\n",
      "Epoch: 7 | train_loss: 2.4846 | train_acc: 0.5365 | test_loss: 1.8926 | test_acc: 0.6973\n",
      "Epoch: 8 | train_loss: 2.4775 | train_acc: 0.5377 | test_loss: 1.8801 | test_acc: 0.7007\n",
      "Epoch: 9 | train_loss: 2.4850 | train_acc: 0.5364 | test_loss: 1.8897 | test_acc: 0.7009\n",
      "Epoch: 10 | train_loss: 2.4889 | train_acc: 0.5352 | test_loss: 1.8819 | test_acc: 0.7031\n",
      "Epoch: 11 | train_loss: 2.4890 | train_acc: 0.5366 | test_loss: 1.8847 | test_acc: 0.6976\n",
      "Epoch: 12 | train_loss: 2.4975 | train_acc: 0.5344 | test_loss: 1.8948 | test_acc: 0.6968\n",
      "Epoch: 13 | train_loss: 2.4895 | train_acc: 0.5379 | test_loss: 1.8889 | test_acc: 0.6999\n",
      "Epoch: 14 | train_loss: 2.4865 | train_acc: 0.5371 | test_loss: 1.8933 | test_acc: 0.6989\n",
      "Epoch: 15 | train_loss: 2.4793 | train_acc: 0.5385 | test_loss: 1.8902 | test_acc: 0.7005\n"
     ]
    }
   ],
   "source": [
    "\n",
    "optimizer=torch.optim.Adam(params=effnet_food101.parameters(), lr =1e-2)\n",
    "\n",
    "loss_fn=torch.nn.CrossEntropyLoss(label_smoothing=0.1)\n",
    "\n",
    "set_seeds()\n",
    "effnetb2_food101_results=train(model=effnet_food101,\n",
    "                                      train_dataloader=train_dataloader_food101,\n",
    "                                      test_dataloader=test_dataloader_food101,\n",
    "                                      optimizer=optimizer,\n",
    "                                      loss_fn=loss_fn,\n",
    "                                      epochs=15,\n",
    "                                      device=device)\n"
   ]
  },
  {
   "cell_type": "code",
   "execution_count": 19,
   "id": "f63bdd06",
   "metadata": {
    "execution": {
     "iopub.execute_input": "2024-06-16T11:34:35.195647Z",
     "iopub.status.busy": "2024-06-16T11:34:35.195042Z",
     "iopub.status.idle": "2024-06-16T11:34:35.203317Z",
     "shell.execute_reply": "2024-06-16T11:34:35.202613Z"
    },
    "papermill": {
     "duration": 0.050628,
     "end_time": "2024-06-16T11:34:35.205180",
     "exception": false,
     "start_time": "2024-06-16T11:34:35.154552",
     "status": "completed"
    },
    "tags": []
   },
   "outputs": [],
   "source": [
    "def plot_loss_curves(results):\n",
    "    \"\"\"Plots training curves of a results dictionary.\n",
    "\n",
    "    Args:\n",
    "        results (dict): dictionary containing list of values, e.g.\n",
    "            {\"train_loss\": [...],\n",
    "             \"train_acc\": [...],\n",
    "             \"test_loss\": [...],\n",
    "             \"test_acc\": [...]}\n",
    "    \"\"\"\n",
    "    loss = results[\"train_loss\"]\n",
    "    test_loss = results[\"test_loss\"]\n",
    "\n",
    "    accuracy = results[\"train_acc\"]\n",
    "    test_accuracy = results[\"test_acc\"]\n",
    "\n",
    "    epochs = range(len(results[\"train_loss\"]))\n",
    "\n",
    "    plt.figure(figsize=(15, 7))\n",
    "\n",
    "    # Plot loss\n",
    "    plt.subplot(1, 2, 1)\n",
    "    plt.plot(epochs, loss, label=\"train_loss\")\n",
    "    plt.plot(epochs, test_loss, label=\"test_loss\")\n",
    "    plt.title(\"Loss\")\n",
    "    plt.xlabel(\"Epochs\")\n",
    "    plt.legend()\n",
    "\n",
    "    # Plot accuracy\n",
    "    plt.subplot(1, 2, 2)\n",
    "    plt.plot(epochs, accuracy, label=\"train_accuracy\")\n",
    "    plt.plot(epochs, test_accuracy, label=\"test_accuracy\")\n",
    "    plt.title(\"Accuracy\")\n",
    "    plt.xlabel(\"Epochs\")\n",
    "    plt.legend()\n"
   ]
  },
  {
   "cell_type": "code",
   "execution_count": 20,
   "id": "7025d38f",
   "metadata": {
    "execution": {
     "iopub.execute_input": "2024-06-16T11:34:35.285098Z",
     "iopub.status.busy": "2024-06-16T11:34:35.284820Z",
     "iopub.status.idle": "2024-06-16T11:34:35.859757Z",
     "shell.execute_reply": "2024-06-16T11:34:35.858884Z"
    },
    "papermill": {
     "duration": 0.617488,
     "end_time": "2024-06-16T11:34:35.861988",
     "exception": false,
     "start_time": "2024-06-16T11:34:35.244500",
     "status": "completed"
    },
    "tags": []
   },
   "outputs": [
    {
     "data": {
      "image/png": "[encoded data removed]",
      "text/plain": [
       "<Figure size 1500x700 with 2 Axes>"
      ]
     },
     "metadata": {},
     "output_type": "display_data"
    }
   ],
   "source": [
    "\n",
    "plot_loss_curves(effnetb2_food101_results)"
   ]
  },
  {
   "cell_type": "code",
   "execution_count": 21,
   "id": "fc7a7289",
   "metadata": {
    "execution": {
     "iopub.execute_input": "2024-06-16T11:34:35.944377Z",
     "iopub.status.busy": "2024-06-16T11:34:35.944080Z",
     "iopub.status.idle": "2024-06-16T11:34:35.950250Z",
     "shell.execute_reply": "2024-06-16T11:34:35.949495Z"
    },
    "papermill": {
     "duration": 0.049405,
     "end_time": "2024-06-16T11:34:35.952100",
     "exception": false,
     "start_time": "2024-06-16T11:34:35.902695",
     "status": "completed"
    },
    "tags": []
   },
   "outputs": [],
   "source": [
    "def save_model(model: torch.nn.Module,\n",
    "               target_dir: str,\n",
    "               model_name: str):\n",
    "    \"\"\"Saves a PyTorch model to a target directory.\n",
    "\n",
    "    Args:\n",
    "    model: A target PyTorch model to save.\n",
    "    target_dir: A directory for saving the model to.\n",
    "    model_name: A filename for the saved model. Should include\n",
    "      either \".pth\" or \".pt\" as the file extension.\n",
    "\n",
    "    \"\"\"\n",
    "    # Create target directory\n",
    "    target_dir_path = Path(target_dir)\n",
    "    target_dir_path.mkdir(parents=True,\n",
    "                        exist_ok=True)\n",
    "\n",
    "    # Create model save path\n",
    "    assert model_name.endswith(\".pth\") or model_name.endswith(\".pt\"), \"model_name should end with '.pt' or '.pth'\"\n",
    "    model_save_path = target_dir_path / model_name\n",
    "\n",
    "    # Save the model state_dict()\n",
    "    print(f\"[INFO] Saving model to: {model_save_path}\")\n",
    "    torch.save(obj=model.state_dict(),\n",
    "             f=model_save_path)\n"
   ]
  },
  {
   "cell_type": "code",
   "execution_count": 22,
   "id": "01bee408",
   "metadata": {
    "execution": {
     "iopub.execute_input": "2024-06-16T11:34:36.033356Z",
     "iopub.status.busy": "2024-06-16T11:34:36.033065Z",
     "iopub.status.idle": "2024-06-16T11:34:36.198278Z",
     "shell.execute_reply": "2024-06-16T11:34:36.197127Z"
    },
    "papermill": {
     "duration": 0.208198,
     "end_time": "2024-06-16T11:34:36.200289",
     "exception": false,
     "start_time": "2024-06-16T11:34:35.992091",
     "status": "completed"
    },
    "tags": []
   },
   "outputs": [
    {
     "name": "stdout",
     "output_type": "stream",
     "text": [
      "[INFO] Saving model to: models/pretrained_effnet_feature_extractor_food101.pth\n"
     ]
    }
   ],
   "source": [
    "\n",
    "effnet_food101_model_path='pretrained_effnet_feature_extractor_food101.pth'\n",
    "save_model(model=effnet_food101,\n",
    "                 target_dir=\"models\",\n",
    "                 model_name=effnet_food101_model_path)"
   ]
  },
  {
   "cell_type": "code",
   "execution_count": 23,
   "id": "a1669581",
   "metadata": {
    "execution": {
     "iopub.execute_input": "2024-06-16T11:34:36.282957Z",
     "iopub.status.busy": "2024-06-16T11:34:36.282646Z",
     "iopub.status.idle": "2024-06-16T11:34:37.010873Z",
     "shell.execute_reply": "2024-06-16T11:34:37.009926Z"
    },
    "papermill": {
     "duration": 0.77165,
     "end_time": "2024-06-16T11:34:37.012727",
     "exception": false,
     "start_time": "2024-06-16T11:34:36.241077",
     "status": "completed"
    },
    "tags": []
   },
   "outputs": [
    {
     "name": "stdout",
     "output_type": "stream",
     "text": [
      "Sequential(\n",
      "  (0): Dropout(p=0.4, inplace=True)\n",
      "  (1): Linear(in_features=1792, out_features=1000, bias=True)\n",
      ")\n"
     ]
    },
    {
     "data": {
      "text/plain": [
       "<All keys matched successfully>"
      ]
     },
     "execution_count": 23,
     "metadata": {},
     "output_type": "execute_result"
    }
   ],
   "source": [
    "# Create Food101 compatible EffNetB2 instance\n",
    "loaded_effnet_food101, effnet_transforms = create_effnet_model(num_classes=101)\n",
    "\n",
    "# Load the saved model's state_dict()\n",
    "loaded_effnet_food101.load_state_dict(torch.load(\"models/pretrained_effnet_feature_extractor_food101.pth\"))"
   ]
  },
  {
   "cell_type": "code",
   "execution_count": 24,
   "id": "e03d03e3",
   "metadata": {
    "execution": {
     "iopub.execute_input": "2024-06-16T11:34:37.095297Z",
     "iopub.status.busy": "2024-06-16T11:34:37.095005Z",
     "iopub.status.idle": "2024-06-16T11:34:37.100072Z",
     "shell.execute_reply": "2024-06-16T11:34:37.099235Z"
    },
    "papermill": {
     "duration": 0.048477,
     "end_time": "2024-06-16T11:34:37.102071",
     "exception": false,
     "start_time": "2024-06-16T11:34:37.053594",
     "status": "completed"
    },
    "tags": []
   },
   "outputs": [
    {
     "name": "stdout",
     "output_type": "stream",
     "text": [
      "Pretrained EffNetB2 feature extractor Food101 model size: 68 MB\n"
     ]
    }
   ],
   "source": [
    "from pathlib import Path\n",
    "\n",
    "# Get the model size in bytes then convert to megabytes\n",
    "pretrained_effnet_food101_model_size = Path(\"models\", effnet_food101_model_path).stat().st_size // (1024*1024) # division converts bytes to megabytes (roughly) \n",
    "print(f\"Pretrained EffNetB2 feature extractor Food101 model size: {pretrained_effnet_food101_model_size} MB\")"
   ]
  },
  {
   "cell_type": "code",
   "execution_count": 25,
   "id": "720ab769",
   "metadata": {
    "execution": {
     "iopub.execute_input": "2024-06-16T11:34:37.183958Z",
     "iopub.status.busy": "2024-06-16T11:34:37.183683Z",
     "iopub.status.idle": "2024-06-16T11:34:37.188673Z",
     "shell.execute_reply": "2024-06-16T11:34:37.187841Z"
    },
    "papermill": {
     "duration": 0.048309,
     "end_time": "2024-06-16T11:34:37.190589",
     "exception": false,
     "start_time": "2024-06-16T11:34:37.142280",
     "status": "completed"
    },
    "tags": []
   },
   "outputs": [],
   "source": [
    "from pathlib import Path\n",
    "\n",
    "# Create FoodVision Big demo path\n",
    "foodvision_big_demo_path = Path(\"demos/\")\n",
    "\n",
    "# Make FoodVision Big demo directory\n",
    "foodvision_big_demo_path.mkdir(parents=True, exist_ok=True)\n",
    "\n",
    "# Make FoodVision Big demo examples directory\n",
    "(foodvision_big_demo_path / \"examples\").mkdir(parents=True, exist_ok=True)"
   ]
  },
  {
   "cell_type": "code",
   "execution_count": 26,
   "id": "f948570c",
   "metadata": {
    "execution": {
     "iopub.execute_input": "2024-06-16T11:34:37.272775Z",
     "iopub.status.busy": "2024-06-16T11:34:37.272520Z",
     "iopub.status.idle": "2024-06-16T11:34:37.278011Z",
     "shell.execute_reply": "2024-06-16T11:34:37.277201Z"
    },
    "papermill": {
     "duration": 0.048762,
     "end_time": "2024-06-16T11:34:37.279846",
     "exception": false,
     "start_time": "2024-06-16T11:34:37.231084",
     "status": "completed"
    },
    "tags": []
   },
   "outputs": [
    {
     "name": "stdout",
     "output_type": "stream",
     "text": [
      "[INFO] Saving Food101 class names to demos/foodvision_big/class_names.txt\n"
     ]
    }
   ],
   "source": [
    "# Create path to Food101 class names\n",
    "foodvision_big_class_names_path = foodvision_big_demo_path / \"class_names.txt\"\n",
    "\n",
    "# Write Food101 class names list to file\n",
    "with open(foodvision_big_class_names_path, \"w\") as f:\n",
    "    print(f\"[INFO] Saving Food101 class names to {foodvision_big_class_names_path}\")\n",
    "    f.write(\"\\n\".join(food101_class_names)) # leave a new line between each class"
   ]
  },
  {
   "cell_type": "code",
   "execution_count": null,
   "id": "9151c088",
   "metadata": {
    "papermill": {
     "duration": 0.040441,
     "end_time": "2024-06-16T11:34:37.360857",
     "exception": false,
     "start_time": "2024-06-16T11:34:37.320416",
     "status": "completed"
    },
    "tags": []
   },
   "outputs": [],
   "source": []
  }
 ],
 "metadata": {
  "kaggle": {
   "accelerator": "gpu",
   "dataSources": [],
   "dockerImageVersionId": 30733,
   "isGpuEnabled": true,
   "isInternetEnabled": true,
   "language": "python",
   "sourceType": "notebook"
  },
  "kernelspec": {
   "display_name": "Python 3",
   "language": "python",
   "name": "python3"
  },
  "language_info": {
   "codemirror_mode": {
    "name": "ipython",
    "version": 3
   },
   "file_extension": ".py",
   "mimetype": "text/x-python",
   "name": "python",
   "nbconvert_exporter": "python",
   "pygments_lexer": "ipython3",
   "version": "3.11.7"
  },
  "papermill": {
   "default_parameters": {},
   "duration": 11272.597031,
   "end_time": "2024-06-16T11:34:38.847167",
   "environment_variables": {},
   "exception": null,
   "input_path": "__notebook__.ipynb",
   "output_path": "__notebook__.ipynb",
   "parameters": {},
   "start_time": "2024-06-16T08:26:46.250136",
   "version": "2.5.0"
  },
  "widgets": {
   "application/vnd.jupyter.widget-state+json": {
    "state": {
     "0249df143d96423080363fc99a5ca21f": {
      "model_module": "@jupyter-widgets/controls",
      "model_module_version": "1.5.0",
      "model_name": "FloatProgressModel",
      "state": {
       "_dom_classes": [],
       "_model_module": "@jupyter-widgets/controls",
       "_model_module_version": "1.5.0",
       "_model_name": "FloatProgressModel",
       "_view_count": null,
       "_view_module": "@jupyter-widgets/controls",
       "_view_module_version": "1.5.0",
       "_view_name": "ProgressView",
       "bar_style": "success",
       "description": "",
       "description_tooltip": null,
       "layout": "IPY_MODEL_7790a57b721e43049a519b088d9f7c8f",
       "max": 15,
       "min": 0,
       "orientation": "horizontal",
       "style": "IPY_MODEL_58a2e774143f4c5295a48c0b05f3feca",
       "value": 15
      }
     },
     "145a1a184811495fa9224fed38db7e1e": {
      "model_module": "@jupyter-widgets/base",
      "model_module_version": "1.2.0",
      "model_name": "LayoutModel",
      "state": {
       "_model_module": "@jupyter-widgets/base",
       "_model_module_version": "1.2.0",
       "_model_name": "LayoutModel",
       "_view_count": null,
       "_view_module": "@jupyter-widgets/base",
       "_view_module_version": "1.2.0",
       "_view_name": "LayoutView",
       "align_content": null,
       "align_items": null,
       "align_self": null,
       "border": null,
       "bottom": null,
       "display": null,
       "flex": null,
       "flex_flow": null,
       "grid_area": null,
       "grid_auto_columns": null,
       "grid_auto_flow": null,
       "grid_auto_rows": null,
       "grid_column": null,
       "grid_gap": null,
       "grid_row": null,
       "grid_template_areas": null,
       "grid_template_columns": null,
       "grid_template_rows": null,
       "height": null,
       "justify_content": null,
       "justify_items": null,
       "left": null,
       "margin": null,
       "max_height": null,
       "max_width": null,
       "min_height": null,
       "min_width": null,
       "object_fit": null,
       "object_position": null,
       "order": null,
       "overflow": null,
       "overflow_x": null,
       "overflow_y": null,
       "padding": null,
       "right": null,
       "top": null,
       "visibility": null,
       "width": null
      }
     },
     "58a2e774143f4c5295a48c0b05f3feca": {
      "model_module": "@jupyter-widgets/controls",
      "model_module_version": "1.5.0",
      "model_name": "ProgressStyleModel",
      "state": {
       "_model_module": "@jupyter-widgets/controls",
       "_model_module_version": "1.5.0",
       "_model_name": "ProgressStyleModel",
       "_view_count": null,
       "_view_module": "@jupyter-widgets/base",
       "_view_module_version": "1.2.0",
       "_view_name": "StyleView",
       "bar_color": null,
       "description_width": ""
      }
     },
     "5af6b9f55bfa497db045de144f63d2af": {
      "model_module": "@jupyter-widgets/base",
      "model_module_version": "1.2.0",
      "model_name": "LayoutModel",
      "state": {
       "_model_module": "@jupyter-widgets/base",
       "_model_module_version": "1.2.0",
       "_model_name": "LayoutModel",
       "_view_count": null,
       "_view_module": "@jupyter-widgets/base",
       "_view_module_version": "1.2.0",
       "_view_name": "LayoutView",
       "align_content": null,
       "align_items": null,
       "align_self": null,
       "border": null,
       "bottom": null,
       "display": null,
       "flex": null,
       "flex_flow": null,
       "grid_area": null,
       "grid_auto_columns": null,
       "grid_auto_flow": null,
       "grid_auto_rows": null,
       "grid_column": null,
       "grid_gap": null,
       "grid_row": null,
       "grid_template_areas": null,
       "grid_template_columns": null,
       "grid_template_rows": null,
       "height": null,
       "justify_content": null,
       "justify_items": null,
       "left": null,
       "margin": null,
       "max_height": null,
       "max_width": null,
       "min_height": null,
       "min_width": null,
       "object_fit": null,
       "object_position": null,
       "order": null,
       "overflow": null,
       "overflow_x": null,
       "overflow_y": null,
       "padding": null,
       "right": null,
       "top": null,
       "visibility": null,
       "width": null
      }
     },
     "7790a57b721e43049a519b088d9f7c8f": {
      "model_module": "@jupyter-widgets/base",
      "model_module_version": "1.2.0",
      "model_name": "LayoutModel",
      "state": {
       "_model_module": "@jupyter-widgets/base",
       "_model_module_version": "1.2.0",
       "_model_name": "LayoutModel",
       "_view_count": null,
       "_view_module": "@jupyter-widgets/base",
       "_view_module_version": "1.2.0",
       "_view_name": "LayoutView",
       "align_content": null,
       "align_items": null,
       "align_self": null,
       "border": null,
       "bottom": null,
       "display": null,
       "flex": null,
       "flex_flow": null,
       "grid_area": null,
       "grid_auto_columns": null,
       "grid_auto_flow": null,
       "grid_auto_rows": null,
       "grid_column": null,
       "grid_gap": null,
       "grid_row": null,
       "grid_template_areas": null,
       "grid_template_columns": null,
       "grid_template_rows": null,
       "height": null,
       "justify_content": null,
       "justify_items": null,
       "left": null,
       "margin": null,
       "max_height": null,
       "max_width": null,
       "min_height": null,
       "min_width": null,
       "object_fit": null,
       "object_position": null,
       "order": null,
       "overflow": null,
       "overflow_x": null,
       "overflow_y": null,
       "padding": null,
       "right": null,
       "top": null,
       "visibility": null,
       "width": null
      }
     },
     "a765cdba3041415eae9437ba131ca89f": {
      "model_module": "@jupyter-widgets/controls",
      "model_module_version": "1.5.0",
      "model_name": "HTMLModel",
      "state": {
       "_dom_classes": [],
       "_model_module": "@jupyter-widgets/controls",
       "_model_module_version": "1.5.0",
       "_model_name": "HTMLModel",
       "_view_count": null,
       "_view_module": "@jupyter-widgets/controls",
       "_view_module_version": "1.5.0",
       "_view_name": "HTMLView",
       "description": "",
       "description_tooltip": null,
       "layout": "IPY_MODEL_f2f7d8c0cbdf427bb06fd677ff20b878",
       "placeholder": "​",
       "style": "IPY_MODEL_c2c67fb7bc924b68acc59beba155f95f",
       "value": " 15/15 [3:05:51&lt;00:00, 741.81s/it]"
      }
     },
     "bbbb76dd8d6642b6953df73209aec368": {
      "model_module": "@jupyter-widgets/controls",
      "model_module_version": "1.5.0",
      "model_name": "HTMLModel",
      "state": {
       "_dom_classes": [],
       "_model_module": "@jupyter-widgets/controls",
       "_model_module_version": "1.5.0",
       "_model_name": "HTMLModel",
       "_view_count": null,
       "_view_module": "@jupyter-widgets/controls",
       "_view_module_version": "1.5.0",
       "_view_name": "HTMLView",
       "description": "",
       "description_tooltip": null,
       "layout": "IPY_MODEL_145a1a184811495fa9224fed38db7e1e",
       "placeholder": "​",
       "style": "IPY_MODEL_cdd655c01a784d5fbb592e330d6d94df",
       "value": "100%"
      }
     },
     "c2c67fb7bc924b68acc59beba155f95f": {
      "model_module": "@jupyter-widgets/controls",
      "model_module_version": "1.5.0",
      "model_name": "DescriptionStyleModel",
      "state": {
       "_model_module": "@jupyter-widgets/controls",
       "_model_module_version": "1.5.0",
       "_model_name": "DescriptionStyleModel",
       "_view_count": null,
       "_view_module": "@jupyter-widgets/base",
       "_view_module_version": "1.2.0",
       "_view_name": "StyleView",
       "description_width": ""
      }
     },
     "cdd655c01a784d5fbb592e330d6d94df": {
      "model_module": "@jupyter-widgets/controls",
      "model_module_version": "1.5.0",
      "model_name": "DescriptionStyleModel",
      "state": {
       "_model_module": "@jupyter-widgets/controls",
       "_model_module_version": "1.5.0",
       "_model_name": "DescriptionStyleModel",
       "_view_count": null,
       "_view_module": "@jupyter-widgets/base",
       "_view_module_version": "1.2.0",
       "_view_name": "StyleView",
       "description_width": ""
      }
     },
     "f2f7d8c0cbdf427bb06fd677ff20b878": {
      "model_module": "@jupyter-widgets/base",
      "model_module_version": "1.2.0",
      "model_name": "LayoutModel",
      "state": {
       "_model_module": "@jupyter-widgets/base",
       "_model_module_version": "1.2.0",
       "_model_name": "LayoutModel",
       "_view_count": null,
       "_view_module": "@jupyter-widgets/base",
       "_view_module_version": "1.2.0",
       "_view_name": "LayoutView",
       "align_content": null,
       "align_items": null,
       "align_self": null,
       "border": null,
       "bottom": null,
       "display": null,
       "flex": null,
       "flex_flow": null,
       "grid_area": null,
       "grid_auto_columns": null,
       "grid_auto_flow": null,
       "grid_auto_rows": null,
       "grid_column": null,
       "grid_gap": null,
       "grid_row": null,
       "grid_template_areas": null,
       "grid_template_columns": null,
       "grid_template_rows": null,
       "height": null,
       "justify_content": null,
       "justify_items": null,
       "left": null,
       "margin": null,
       "max_height": null,
       "max_width": null,
       "min_height": null,
       "min_width": null,
       "object_fit": null,
       "object_position": null,
       "order": null,
       "overflow": null,
       "overflow_x": null,
       "overflow_y": null,
       "padding": null,
       "right": null,
       "top": null,
       "visibility": null,
       "width": null
      }
     },
     "fca446aecfec4b7dab4560e8600b6a77": {
      "model_module": "@jupyter-widgets/controls",
      "model_module_version": "1.5.0",
      "model_name": "HBoxModel",
      "state": {
       "_dom_classes": [],
       "_model_module": "@jupyter-widgets/controls",
       "_model_module_version": "1.5.0",
       "_model_name": "HBoxModel",
       "_view_count": null,
       "_view_module": "@jupyter-widgets/controls",
       "_view_module_version": "1.5.0",
       "_view_name": "HBoxView",
       "box_style": "",
       "children": [
        "IPY_MODEL_bbbb76dd8d6642b6953df73209aec368",
        "IPY_MODEL_0249df143d96423080363fc99a5ca21f",
        "IPY_MODEL_a765cdba3041415eae9437ba131ca89f"
       ],
       "layout": "IPY_MODEL_5af6b9f55bfa497db045de144f63d2af"
      }
     }
    },
    "version_major": 2,
    "version_minor": 0
   }
  }
 },
 "nbformat": 4,
 "nbformat_minor": 5
}
